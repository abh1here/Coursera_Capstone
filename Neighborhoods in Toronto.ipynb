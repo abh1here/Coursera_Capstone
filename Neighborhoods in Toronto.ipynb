{
    "nbformat_minor": 1, 
    "cells": [
        {
            "source": "# Segmenting & Clustering Neighborhoods in Toronto", 
            "cell_type": "markdown", 
            "metadata": {
                "collapsed": true
            }
        }, 
        {
            "source": "### Introduction\n\nThis notebook has steps to explore, segment and cluster the neighborhoods in the city of Toronto. There are steps to get the raw html data from web, scrpe through the data and extract the required details. Once the details are available, ", 
            "cell_type": "markdown", 
            "metadata": {}
        }, 
        {
            "source": "###  1. Import all required libraries", 
            "cell_type": "markdown", 
            "metadata": {}
        }, 
        {
            "execution_count": 146, 
            "cell_type": "code", 
            "metadata": {}, 
            "outputs": [], 
            "source": "# Import the required libraries\nimport pandas as pd\nimport requests\nfrom bs4 import BeautifulSoup as Soup"
        }, 
        {
            "source": "### 2. Get HTML data into dataframe\n\nThis step will go out to the website and get the raw HTML code which will then be converted to readable format and eventually to a dataframe", 
            "cell_type": "markdown", 
            "metadata": {}
        }, 
        {
            "execution_count": 149, 
            "cell_type": "code", 
            "metadata": {}, 
            "outputs": [
                {
                    "execution_count": 149, 
                    "metadata": {}, 
                    "data": {
                        "text/html": "<div>\n<style scoped>\n    .dataframe tbody tr th:only-of-type {\n        vertical-align: middle;\n    }\n\n    .dataframe tbody tr th {\n        vertical-align: top;\n    }\n\n    .dataframe thead th {\n        text-align: right;\n    }\n</style>\n<table border=\"1\" class=\"dataframe\">\n  <thead>\n    <tr style=\"text-align: right;\">\n      <th></th>\n      <th>Postcode</th>\n      <th>Borough</th>\n      <th>Neighbourhood</th>\n    </tr>\n  </thead>\n  <tbody>\n    <tr>\n      <th>0</th>\n      <td>M1A</td>\n      <td>Not assigned</td>\n      <td>Not assigned</td>\n    </tr>\n    <tr>\n      <th>1</th>\n      <td>M2A</td>\n      <td>Not assigned</td>\n      <td>Not assigned</td>\n    </tr>\n    <tr>\n      <th>2</th>\n      <td>M3A</td>\n      <td>North York</td>\n      <td>Parkwoods</td>\n    </tr>\n    <tr>\n      <th>3</th>\n      <td>M4A</td>\n      <td>North York</td>\n      <td>Victoria Village</td>\n    </tr>\n    <tr>\n      <th>4</th>\n      <td>M5A</td>\n      <td>Downtown Toronto</td>\n      <td>Harbourfront</td>\n    </tr>\n  </tbody>\n</table>\n</div>", 
                        "text/plain": "  Postcode           Borough     Neighbourhood\n0      M1A      Not assigned      Not assigned\n1      M2A      Not assigned      Not assigned\n2      M3A        North York         Parkwoods\n3      M4A        North York  Victoria Village\n4      M5A  Downtown Toronto      Harbourfront"
                    }, 
                    "output_type": "execute_result"
                }
            ], 
            "source": "# Initialize the path and get data\nweb_path = \"https://en.wikipedia.org/wiki/List_of_postal_codes_of_Canada:_M\"\nhtml_source = requests.get(web_path).text\n\n#Use lxml parser\nhtml_data = Soup(html_source,'lxml')\n\n#Find all the table entries from the html source and create table list\ntable = html_data.find_all('table', class_=\"wikitable sortable\")\ntable_ls = pd.read_html(str(table))\n\n\n# Create Dataframe with the columns from the html source\ncolumns = [table_ls[0][0][0],table_ls[0][1][0],table_ls[0][2][0]]\ntable_df = pd.DataFrame(columns = columns)\n\n#Loop through the table list and append each entry to the dataframe\nfor i in range(len(table_ls[0])-1):\n    data = {table_ls[0][0][0]:table_ls[0][0][i+1],table_ls[0][1][0]:table_ls[0][1][i+1],table_ls[0][2][0]:table_ls[0][2][i+1]}\n    table_df = table_df.append(data,ignore_index = True)\n\ntable_df.head()"
        }, 
        {
            "source": "### 3. Pre-process the data\n\nThis step will remove the rows that has Borough value set as \"Not Assigned\". The duplicate rows in the dataframe are flagged using the _Is Duplicate_ value. Move the non-duplicate values to the final data frame", 
            "cell_type": "markdown", 
            "metadata": {}
        }, 
        {
            "execution_count": 150, 
            "cell_type": "code", 
            "metadata": {}, 
            "outputs": [
                {
                    "execution_count": 150, 
                    "metadata": {}, 
                    "data": {
                        "text/html": "<div>\n<style scoped>\n    .dataframe tbody tr th:only-of-type {\n        vertical-align: middle;\n    }\n\n    .dataframe tbody tr th {\n        vertical-align: top;\n    }\n\n    .dataframe thead th {\n        text-align: right;\n    }\n</style>\n<table border=\"1\" class=\"dataframe\">\n  <thead>\n    <tr style=\"text-align: right;\">\n      <th></th>\n      <th>Postcode</th>\n      <th>Borough</th>\n      <th>Neighbourhood</th>\n      <th>Is_Duplicate</th>\n    </tr>\n  </thead>\n  <tbody>\n    <tr>\n      <th>0</th>\n      <td>M3A</td>\n      <td>North York</td>\n      <td>Parkwoods</td>\n      <td>False</td>\n    </tr>\n    <tr>\n      <th>1</th>\n      <td>M4A</td>\n      <td>North York</td>\n      <td>Victoria Village</td>\n      <td>False</td>\n    </tr>\n    <tr>\n      <th>2</th>\n      <td>M7A</td>\n      <td>Queen's Park</td>\n      <td>Not assigned</td>\n      <td>False</td>\n    </tr>\n    <tr>\n      <th>3</th>\n      <td>M9A</td>\n      <td>Etobicoke</td>\n      <td>Islington Avenue</td>\n      <td>False</td>\n    </tr>\n    <tr>\n      <th>4</th>\n      <td>M3B</td>\n      <td>North York</td>\n      <td>Don Mills North</td>\n      <td>False</td>\n    </tr>\n  </tbody>\n</table>\n</div>", 
                        "text/plain": "  Postcode       Borough     Neighbourhood  Is_Duplicate\n0      M3A    North York         Parkwoods         False\n1      M4A    North York  Victoria Village         False\n2      M7A  Queen's Park      Not assigned         False\n3      M9A     Etobicoke  Islington Avenue         False\n4      M3B    North York   Don Mills North         False"
                    }, 
                    "output_type": "execute_result"
                }
            ], 
            "source": "#Drop the rows that has Borough = Not Assigned\ndrop_idx = table_df[table_df[\"Borough\"] == \"Not assigned\"].index\ntable_df.drop(drop_idx,inplace = True)\ntable_df.reset_index(drop=True,inplace = True)\ntable_df[\"Is_Duplicate\"] = table_df.duplicated(subset = \"Postcode\",keep=False) \n\n#Create dataframe with only the duplicate values\ntable_df2 = table_df[table_df[\"Is_Duplicate\"]==True]\ntable_df2.reset_index(drop=True,inplace = True)\ntable_df2.set_index(\"Postcode\")\ntable_df2.sort_index(inplace=True)\n\n#Move non-duplicates to final dataframe\nneigh_df = table_df[table_df[\"Is_Duplicate\"] == False ]\nneigh_df.reset_index(drop=True,inplace = True)\nneigh_df.set_index(\"Postcode\")\nneigh_df.sort_index(inplace=True)\nneigh_df.head()"
        }, 
        {
            "source": "### 4. Process duplicates and combine values\n\nThis step will loop through the duplicates dataframe and combine the _Neighbourhood_ values. The combined values along with _Postcode_ and _Borough_ are appended to the final dataframe. ", 
            "cell_type": "markdown", 
            "metadata": {}
        }, 
        {
            "execution_count": 151, 
            "cell_type": "code", 
            "metadata": {}, 
            "outputs": [
                {
                    "execution_count": 151, 
                    "metadata": {}, 
                    "data": {
                        "text/html": "<div>\n<style scoped>\n    .dataframe tbody tr th:only-of-type {\n        vertical-align: middle;\n    }\n\n    .dataframe tbody tr th {\n        vertical-align: top;\n    }\n\n    .dataframe thead th {\n        text-align: right;\n    }\n</style>\n<table border=\"1\" class=\"dataframe\">\n  <thead>\n    <tr style=\"text-align: right;\">\n      <th></th>\n      <th>Postcode</th>\n      <th>Borough</th>\n      <th>Neighbourhood</th>\n      <th>Is_Duplicate</th>\n    </tr>\n  </thead>\n  <tbody>\n    <tr>\n      <th>0</th>\n      <td>M3A</td>\n      <td>North York</td>\n      <td>Parkwoods</td>\n      <td>False</td>\n    </tr>\n    <tr>\n      <th>1</th>\n      <td>M4A</td>\n      <td>North York</td>\n      <td>Victoria Village</td>\n      <td>False</td>\n    </tr>\n    <tr>\n      <th>2</th>\n      <td>M7A</td>\n      <td>Queen's Park</td>\n      <td>Not assigned</td>\n      <td>False</td>\n    </tr>\n    <tr>\n      <th>3</th>\n      <td>M9A</td>\n      <td>Etobicoke</td>\n      <td>Islington Avenue</td>\n      <td>False</td>\n    </tr>\n    <tr>\n      <th>4</th>\n      <td>M3B</td>\n      <td>North York</td>\n      <td>Don Mills North</td>\n      <td>False</td>\n    </tr>\n  </tbody>\n</table>\n</div>", 
                        "text/plain": "  Postcode       Borough     Neighbourhood Is_Duplicate\n0      M3A    North York         Parkwoods        False\n1      M4A    North York  Victoria Village        False\n2      M7A  Queen's Park      Not assigned        False\n3      M9A     Etobicoke  Islington Avenue        False\n4      M3B    North York   Don Mills North        False"
                    }, 
                    "output_type": "execute_result"
                }
            ], 
            "source": "#Get the values of the first row\ncode = table_df2.iloc[0][\"Postcode\"]\nhood = table_df2.iloc[0][\"Neighbourhood\"]\n\n#Loop through the data frame and combine neighbourhood values\nfor i in range(1,len(table_df2)):\n\n    if (table_df2.iloc[i][\"Postcode\"] == str(code)):\n        hood = hood + ',' + str(table_df2.iloc[i][\"Neighbourhood\"]) #Combine values for same postcode.\n    else:\n        #Set the values and append to dataframe\n        code = str(table_df2.iloc[(i-1)][\"Postcode\"]) \n        boro = str(table_df2.iloc[(i-1)][\"Borough\"])\n        dup = str(table_df2.iloc[(i-1)][\"Is_Duplicate\"])\n        neigh_df =neigh_df.append({\"Postcode\":code,\"Borough\":boro,\"Neighbourhood\":hood,\"Is_Duplicate\":dup},ignore_index=True)\n        \n        #Move next postcode values\n        hood = table_df2.iloc[i][\"Neighbourhood\"]\n        code = table_df2.iloc[i][\"Postcode\"]\n\n#Append last record to dataframe\ncode = str(table_df2.iloc[(i-1)][\"Postcode\"])\nboro = str(table_df2.iloc[(i-1)][\"Borough\"])\ndup = str(table_df2.iloc[(i-1)][\"Is_Duplicate\"])\nneigh_df =neigh_df.append({\"Postcode\":code,\"Borough\":boro,\"Neighbourhood\":hood,\"Is_Duplicate\":dup},ignore_index=True)\n\nneigh_df.head()"
        }, 
        {
            "source": "### 5. Final cleanup\n\nNow the dataframe should have the final result. Reset the index, drop the _Is Duplicate_ column and display the result.", 
            "cell_type": "markdown", 
            "metadata": {}
        }, 
        {
            "execution_count": 152, 
            "cell_type": "code", 
            "metadata": {}, 
            "outputs": [
                {
                    "execution_count": 152, 
                    "metadata": {}, 
                    "data": {
                        "text/html": "<div>\n<style scoped>\n    .dataframe tbody tr th:only-of-type {\n        vertical-align: middle;\n    }\n\n    .dataframe tbody tr th {\n        vertical-align: top;\n    }\n\n    .dataframe thead th {\n        text-align: right;\n    }\n</style>\n<table border=\"1\" class=\"dataframe\">\n  <thead>\n    <tr style=\"text-align: right;\">\n      <th></th>\n      <th>Postcode</th>\n      <th>Borough</th>\n      <th>Neighbourhood</th>\n    </tr>\n  </thead>\n  <tbody>\n    <tr>\n      <th>0</th>\n      <td>M3A</td>\n      <td>North York</td>\n      <td>Parkwoods</td>\n    </tr>\n    <tr>\n      <th>1</th>\n      <td>M4A</td>\n      <td>North York</td>\n      <td>Victoria Village</td>\n    </tr>\n    <tr>\n      <th>2</th>\n      <td>M7A</td>\n      <td>Queen's Park</td>\n      <td>Not assigned</td>\n    </tr>\n    <tr>\n      <th>3</th>\n      <td>M9A</td>\n      <td>Etobicoke</td>\n      <td>Islington Avenue</td>\n    </tr>\n    <tr>\n      <th>4</th>\n      <td>M3B</td>\n      <td>North York</td>\n      <td>Don Mills North</td>\n    </tr>\n    <tr>\n      <th>5</th>\n      <td>M6B</td>\n      <td>North York</td>\n      <td>Glencairn</td>\n    </tr>\n    <tr>\n      <th>6</th>\n      <td>M4C</td>\n      <td>East York</td>\n      <td>Woodbine Heights</td>\n    </tr>\n    <tr>\n      <th>7</th>\n      <td>M5C</td>\n      <td>Downtown Toronto</td>\n      <td>St. James Town</td>\n    </tr>\n    <tr>\n      <th>8</th>\n      <td>M6C</td>\n      <td>York</td>\n      <td>Humewood-Cedarvale</td>\n    </tr>\n    <tr>\n      <th>9</th>\n      <td>M4E</td>\n      <td>East Toronto</td>\n      <td>The Beaches</td>\n    </tr>\n    <tr>\n      <th>10</th>\n      <td>M5E</td>\n      <td>Downtown Toronto</td>\n      <td>Berczy Park</td>\n    </tr>\n    <tr>\n      <th>11</th>\n      <td>M6E</td>\n      <td>York</td>\n      <td>Caledonia-Fairbanks</td>\n    </tr>\n    <tr>\n      <th>12</th>\n      <td>M1G</td>\n      <td>Scarborough</td>\n      <td>Woburn</td>\n    </tr>\n    <tr>\n      <th>13</th>\n      <td>M4G</td>\n      <td>East York</td>\n      <td>Leaside</td>\n    </tr>\n    <tr>\n      <th>14</th>\n      <td>M5G</td>\n      <td>Downtown Toronto</td>\n      <td>Central Bay Street</td>\n    </tr>\n    <tr>\n      <th>15</th>\n      <td>M6G</td>\n      <td>Downtown Toronto</td>\n      <td>Christie</td>\n    </tr>\n    <tr>\n      <th>16</th>\n      <td>M1H</td>\n      <td>Scarborough</td>\n      <td>Cedarbrae</td>\n    </tr>\n    <tr>\n      <th>17</th>\n      <td>M2H</td>\n      <td>North York</td>\n      <td>Hillcrest Village</td>\n    </tr>\n    <tr>\n      <th>18</th>\n      <td>M4H</td>\n      <td>East York</td>\n      <td>Thorncliffe Park</td>\n    </tr>\n    <tr>\n      <th>19</th>\n      <td>M1J</td>\n      <td>Scarborough</td>\n      <td>Scarborough Village</td>\n    </tr>\n    <tr>\n      <th>20</th>\n      <td>M4J</td>\n      <td>East York</td>\n      <td>East Toronto</td>\n    </tr>\n    <tr>\n      <th>21</th>\n      <td>M2K</td>\n      <td>North York</td>\n      <td>Bayview Village</td>\n    </tr>\n    <tr>\n      <th>22</th>\n      <td>M3L</td>\n      <td>North York</td>\n      <td>Downsview West</td>\n    </tr>\n    <tr>\n      <th>23</th>\n      <td>M9L</td>\n      <td>North York</td>\n      <td>Humber Summit</td>\n    </tr>\n    <tr>\n      <th>24</th>\n      <td>M3M</td>\n      <td>North York</td>\n      <td>Downsview Central</td>\n    </tr>\n    <tr>\n      <th>25</th>\n      <td>M4M</td>\n      <td>East Toronto</td>\n      <td>Studio District</td>\n    </tr>\n    <tr>\n      <th>26</th>\n      <td>M2N</td>\n      <td>North York</td>\n      <td>Willowdale South</td>\n    </tr>\n    <tr>\n      <th>27</th>\n      <td>M3N</td>\n      <td>North York</td>\n      <td>Downsview Northwest</td>\n    </tr>\n    <tr>\n      <th>28</th>\n      <td>M4N</td>\n      <td>Central Toronto</td>\n      <td>Lawrence Park</td>\n    </tr>\n    <tr>\n      <th>29</th>\n      <td>M5N</td>\n      <td>Central Toronto</td>\n      <td>Roselawn</td>\n    </tr>\n    <tr>\n      <th>...</th>\n      <td>...</td>\n      <td>...</td>\n      <td>...</td>\n    </tr>\n    <tr>\n      <th>73</th>\n      <td>M2M</td>\n      <td>North York</td>\n      <td>Newtonbrook,Willowdale</td>\n    </tr>\n    <tr>\n      <th>74</th>\n      <td>M5M</td>\n      <td>North York</td>\n      <td>Bedford Park,Lawrence Manor East</td>\n    </tr>\n    <tr>\n      <th>75</th>\n      <td>M6M</td>\n      <td>York</td>\n      <td>Del Ray,Keelesdale,Mount Dennis,Silverthorn</td>\n    </tr>\n    <tr>\n      <th>76</th>\n      <td>M9M</td>\n      <td>North York</td>\n      <td>Emery,Humberlea</td>\n    </tr>\n    <tr>\n      <th>77</th>\n      <td>M1N</td>\n      <td>Scarborough</td>\n      <td>Birch Cliff,Cliffside West</td>\n    </tr>\n    <tr>\n      <th>78</th>\n      <td>M6N</td>\n      <td>York</td>\n      <td>The Junction North,Runnymede</td>\n    </tr>\n    <tr>\n      <th>79</th>\n      <td>M1P</td>\n      <td>Scarborough</td>\n      <td>Dorset Park,Scarborough Town Centre,Wexford He...</td>\n    </tr>\n    <tr>\n      <th>80</th>\n      <td>M5P</td>\n      <td>Central Toronto</td>\n      <td>Forest Hill North,Forest Hill West</td>\n    </tr>\n    <tr>\n      <th>81</th>\n      <td>M6P</td>\n      <td>West Toronto</td>\n      <td>High Park,The Junction South</td>\n    </tr>\n    <tr>\n      <th>82</th>\n      <td>M1R</td>\n      <td>Scarborough</td>\n      <td>Maryvale,Wexford</td>\n    </tr>\n    <tr>\n      <th>83</th>\n      <td>M5R</td>\n      <td>Central Toronto</td>\n      <td>The Annex,North Midtown,Yorkville</td>\n    </tr>\n    <tr>\n      <th>84</th>\n      <td>M6R</td>\n      <td>West Toronto</td>\n      <td>Parkdale,Roncesvalles</td>\n    </tr>\n    <tr>\n      <th>85</th>\n      <td>M9R</td>\n      <td>Etobicoke</td>\n      <td>Kingsview Village,Martin Grove Gardens,Richvie...</td>\n    </tr>\n    <tr>\n      <th>86</th>\n      <td>M5S</td>\n      <td>Downtown Toronto</td>\n      <td>Harbord,University of Toronto</td>\n    </tr>\n    <tr>\n      <th>87</th>\n      <td>M6S</td>\n      <td>West Toronto</td>\n      <td>Runnymede,Swansea</td>\n    </tr>\n    <tr>\n      <th>88</th>\n      <td>M1T</td>\n      <td>Scarborough</td>\n      <td>Clarks Corners,Sullivan,Tam O'Shanter</td>\n    </tr>\n    <tr>\n      <th>89</th>\n      <td>M4T</td>\n      <td>Central Toronto</td>\n      <td>Moore Park,Summerhill East</td>\n    </tr>\n    <tr>\n      <th>90</th>\n      <td>M5T</td>\n      <td>Downtown Toronto</td>\n      <td>Chinatown,Grange Park,Kensington Market</td>\n    </tr>\n    <tr>\n      <th>91</th>\n      <td>M1V</td>\n      <td>Scarborough</td>\n      <td>Agincourt North,L'Amoreaux East,Milliken,Steel...</td>\n    </tr>\n    <tr>\n      <th>92</th>\n      <td>M4V</td>\n      <td>Central Toronto</td>\n      <td>Deer Park,Forest Hill SE,Rathnelly,South Hill,...</td>\n    </tr>\n    <tr>\n      <th>93</th>\n      <td>M5V</td>\n      <td>Downtown Toronto</td>\n      <td>CN Tower,Bathurst Quay,Island airport,Harbourf...</td>\n    </tr>\n    <tr>\n      <th>94</th>\n      <td>M8V</td>\n      <td>Etobicoke</td>\n      <td>Humber Bay Shores,Mimico South,New Toronto</td>\n    </tr>\n    <tr>\n      <th>95</th>\n      <td>M9V</td>\n      <td>Etobicoke</td>\n      <td>Albion Gardens,Beaumond Heights,Humbergate,Jam...</td>\n    </tr>\n    <tr>\n      <th>96</th>\n      <td>M1W</td>\n      <td>Scarborough</td>\n      <td>L'Amoreaux West,Steeles West</td>\n    </tr>\n    <tr>\n      <th>97</th>\n      <td>M8W</td>\n      <td>Etobicoke</td>\n      <td>Alderwood,Long Branch</td>\n    </tr>\n    <tr>\n      <th>98</th>\n      <td>M4X</td>\n      <td>Downtown Toronto</td>\n      <td>Cabbagetown,St. James Town</td>\n    </tr>\n    <tr>\n      <th>99</th>\n      <td>M5X</td>\n      <td>Downtown Toronto</td>\n      <td>First Canadian Place,Underground city</td>\n    </tr>\n    <tr>\n      <th>100</th>\n      <td>M8X</td>\n      <td>Etobicoke</td>\n      <td>The Kingsway,Montgomery Road,Old Mill North</td>\n    </tr>\n    <tr>\n      <th>101</th>\n      <td>M8Y</td>\n      <td>Etobicoke</td>\n      <td>Humber Bay,King's Mill Park,Kingsway Park Sout...</td>\n    </tr>\n    <tr>\n      <th>102</th>\n      <td>M8Z</td>\n      <td>Etobicoke</td>\n      <td>Kingsway Park South West,Mimico NW,The Queensw...</td>\n    </tr>\n  </tbody>\n</table>\n<p>103 rows \u00d7 3 columns</p>\n</div>", 
                        "text/plain": "    Postcode           Borough  \\\n0        M3A        North York   \n1        M4A        North York   \n2        M7A      Queen's Park   \n3        M9A         Etobicoke   \n4        M3B        North York   \n5        M6B        North York   \n6        M4C         East York   \n7        M5C  Downtown Toronto   \n8        M6C              York   \n9        M4E      East Toronto   \n10       M5E  Downtown Toronto   \n11       M6E              York   \n12       M1G       Scarborough   \n13       M4G         East York   \n14       M5G  Downtown Toronto   \n15       M6G  Downtown Toronto   \n16       M1H       Scarborough   \n17       M2H        North York   \n18       M4H         East York   \n19       M1J       Scarborough   \n20       M4J         East York   \n21       M2K        North York   \n22       M3L        North York   \n23       M9L        North York   \n24       M3M        North York   \n25       M4M      East Toronto   \n26       M2N        North York   \n27       M3N        North York   \n28       M4N   Central Toronto   \n29       M5N   Central Toronto   \n..       ...               ...   \n73       M2M        North York   \n74       M5M        North York   \n75       M6M              York   \n76       M9M        North York   \n77       M1N       Scarborough   \n78       M6N              York   \n79       M1P       Scarborough   \n80       M5P   Central Toronto   \n81       M6P      West Toronto   \n82       M1R       Scarborough   \n83       M5R   Central Toronto   \n84       M6R      West Toronto   \n85       M9R         Etobicoke   \n86       M5S  Downtown Toronto   \n87       M6S      West Toronto   \n88       M1T       Scarborough   \n89       M4T   Central Toronto   \n90       M5T  Downtown Toronto   \n91       M1V       Scarborough   \n92       M4V   Central Toronto   \n93       M5V  Downtown Toronto   \n94       M8V         Etobicoke   \n95       M9V         Etobicoke   \n96       M1W       Scarborough   \n97       M8W         Etobicoke   \n98       M4X  Downtown Toronto   \n99       M5X  Downtown Toronto   \n100      M8X         Etobicoke   \n101      M8Y         Etobicoke   \n102      M8Z         Etobicoke   \n\n                                         Neighbourhood  \n0                                            Parkwoods  \n1                                     Victoria Village  \n2                                         Not assigned  \n3                                     Islington Avenue  \n4                                      Don Mills North  \n5                                            Glencairn  \n6                                     Woodbine Heights  \n7                                       St. James Town  \n8                                   Humewood-Cedarvale  \n9                                          The Beaches  \n10                                         Berczy Park  \n11                                 Caledonia-Fairbanks  \n12                                              Woburn  \n13                                             Leaside  \n14                                  Central Bay Street  \n15                                            Christie  \n16                                           Cedarbrae  \n17                                   Hillcrest Village  \n18                                    Thorncliffe Park  \n19                                 Scarborough Village  \n20                                        East Toronto  \n21                                     Bayview Village  \n22                                      Downsview West  \n23                                       Humber Summit  \n24                                   Downsview Central  \n25                                     Studio District  \n26                                    Willowdale South  \n27                                 Downsview Northwest  \n28                                       Lawrence Park  \n29                                            Roselawn  \n..                                                 ...  \n73                              Newtonbrook,Willowdale  \n74                    Bedford Park,Lawrence Manor East  \n75         Del Ray,Keelesdale,Mount Dennis,Silverthorn  \n76                                     Emery,Humberlea  \n77                          Birch Cliff,Cliffside West  \n78                        The Junction North,Runnymede  \n79   Dorset Park,Scarborough Town Centre,Wexford He...  \n80                  Forest Hill North,Forest Hill West  \n81                        High Park,The Junction South  \n82                                    Maryvale,Wexford  \n83                   The Annex,North Midtown,Yorkville  \n84                               Parkdale,Roncesvalles  \n85   Kingsview Village,Martin Grove Gardens,Richvie...  \n86                       Harbord,University of Toronto  \n87                                   Runnymede,Swansea  \n88               Clarks Corners,Sullivan,Tam O'Shanter  \n89                          Moore Park,Summerhill East  \n90             Chinatown,Grange Park,Kensington Market  \n91   Agincourt North,L'Amoreaux East,Milliken,Steel...  \n92   Deer Park,Forest Hill SE,Rathnelly,South Hill,...  \n93   CN Tower,Bathurst Quay,Island airport,Harbourf...  \n94          Humber Bay Shores,Mimico South,New Toronto  \n95   Albion Gardens,Beaumond Heights,Humbergate,Jam...  \n96                        L'Amoreaux West,Steeles West  \n97                               Alderwood,Long Branch  \n98                          Cabbagetown,St. James Town  \n99               First Canadian Place,Underground city  \n100        The Kingsway,Montgomery Road,Old Mill North  \n101  Humber Bay,King's Mill Park,Kingsway Park Sout...  \n102  Kingsway Park South West,Mimico NW,The Queensw...  \n\n[103 rows x 3 columns]"
                    }, 
                    "output_type": "execute_result"
                }
            ], 
            "source": "#Set/Reset indexes\nneigh_df.reset_index(drop=True,inplace = True)\nneigh_df.set_index(\"Postcode\")\n\n#Drop Duplicate flag column\ndel neigh_df[\"Is_Duplicate\"]\nneigh_df.sort_index(inplace=True)\n\nneigh_df"
        }, 
        {
            "source": "### 6. Display result size", 
            "cell_type": "markdown", 
            "metadata": {}
        }, 
        {
            "execution_count": 153, 
            "cell_type": "code", 
            "metadata": {}, 
            "outputs": [
                {
                    "execution_count": 153, 
                    "metadata": {}, 
                    "data": {
                        "text/plain": "(103, 3)"
                    }, 
                    "output_type": "execute_result"
                }
            ], 
            "source": "neigh_df.shape"
        }, 
        {
            "execution_count": null, 
            "cell_type": "code", 
            "metadata": {}, 
            "outputs": [], 
            "source": ""
        }
    ], 
    "metadata": {
        "kernelspec": {
            "display_name": "Python 3.5", 
            "name": "python3", 
            "language": "python"
        }, 
        "language_info": {
            "mimetype": "text/x-python", 
            "nbconvert_exporter": "python", 
            "version": "3.5.5", 
            "name": "python", 
            "file_extension": ".py", 
            "pygments_lexer": "ipython3", 
            "codemirror_mode": {
                "version": 3, 
                "name": "ipython"
            }
        }
    }, 
    "nbformat": 4
}