{
    "nbformat_minor": 2, 
    "cells": [
        {
            "source": "# New York Subway Station Analysis (Capstone Project)\n\n### Data Requirements\nIn order to perform the analysis, we will be requiring at least the following information:\n1. Details of subway stations in New York\n2. Geo location coordinates of the subway stations\n3. Businesses or POI close to each subway station\n4. Details of top businesses or POI\n\n### Data Collection\nNow that we have identified what data is required, we need to understand how to obtain this data. \n\n1. New York City Open Data (NYC Open Data) website hosts data of all subway stations, their coordinates, route schedule etc. The link for this is https://data.cityofnewyork.us/api/views/kk4q-3rt2/rows.csv?accessType=DOWNLOAD. This is a csv file that can be downloaded from the website.\n2. Foursquare Labs store information about businesses and POI around each subway station. We can use Foursquare Venues APIs to gather this relevant information.\n3. Identification of top businesses & POI will be part of the modelling process and is not fed from any external source.\n\n### Data Understanding & Preparation\nThe data obtained from NYC Open Data website shows the geo location relation of each subway station. This will help us to map these stations in a map. The geo location information is required by Foursqaure APIs to provide relevant business & POI details.\n\nThe data obtained from NYC Open data website includes information that are not relevant to this analysis - like station schedule. This will go through a series of data cleanup and data massaging prior to getting used for analysis. Detailed steps involved in massaging the data is described during processing.\n", 
            "cell_type": "markdown", 
            "metadata": {}
        }
    ], 
    "metadata": {
        "kernelspec": {
            "display_name": "Python 3", 
            "name": "python3", 
            "language": "python"
        }, 
        "language_info": {
            "mimetype": "text/x-python", 
            "nbconvert_exporter": "python", 
            "version": "3.7.1", 
            "name": "python", 
            "file_extension": ".py", 
            "pygments_lexer": "ipython3", 
            "codemirror_mode": {
                "version": 3, 
                "name": "ipython"
            }
        }
    }, 
    "nbformat": 4
}