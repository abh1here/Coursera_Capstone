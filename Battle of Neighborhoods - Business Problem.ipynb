{
    "nbformat_minor": 2, 
    "cells": [
        {
            "source": "# New York Subway Station Analysis (Capstone Project)\n\n### Business Problem\n\n\nNew York has a well established subway system that runs through the heart of the city. There are several businesses and places of public interest around each of the subway stations. It is possible that there are multiple options of similar business around specific station area. \n\nThis could mean one of the following:\n1. There is an opportunity to open businesses that are different in nature.\n2. Due to the dynamics of the area, ony similar business will flourish and more of the same could be opened.\n\nWe need to have a categorization of the top businesses & POIs around different subway stations so it is easier to make an educated determination on what kind of business will work around a specific station.\n\n\n#### Value of the analysis\n\nThe analysis will provide insight into the top businesses or POIs around each subway station. This data can be used by different groups of people namely marketing firms -  \n1. Marketing firms - to know which area has more concentation of a specific product business \n2. Building constructors - understand which areas has the need for specific building types.\n3. Business investors - they will get insight into what type of business will work in specific areas\n\nThe analysis is carried out focusing on the New York subway system. However the solution is extendable to any other city to create a similar outcome.", 
            "cell_type": "markdown", 
            "metadata": {}
        }
    ], 
    "metadata": {
        "kernelspec": {
            "display_name": "Python 3.5", 
            "name": "python3", 
            "language": "python"
        }, 
        "language_info": {
            "mimetype": "text/x-python", 
            "nbconvert_exporter": "python", 
            "version": "3.5.5", 
            "name": "python", 
            "file_extension": ".py", 
            "pygments_lexer": "ipython3", 
            "codemirror_mode": {
                "version": 3, 
                "name": "ipython"
            }
        }
    }, 
    "nbformat": 4
}